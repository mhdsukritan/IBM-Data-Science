{
 "cells": [
  {
   "cell_type": "markdown",
   "id": "86ec4427-6e15-4c81-8e1b-0059d8442aad",
   "metadata": {},
   "source": [
    "# Data Science Tools and Ecosystem"
   ]
  },
  {
   "cell_type": "markdown",
   "id": "6fc9d145-4c2e-4fc7-a3df-9040c12ca5f3",
   "metadata": {},
   "source": [
    "In this notebook, Data Science Tools and Ecosystem are summarized."
   ]
  },
  {
   "cell_type": "markdown",
   "id": "17ea22b3-6d3d-43fc-a9f7-35407a1b3583",
   "metadata": {},
   "source": [
    "**Objectives:**\n",
    "\n",
    "- List popular languages for Data Science.\n",
    "- Identify commonly used libraries in Data Science.\n",
    "- Introduce arithmetic expression examples in Python.\n",
    "- Perform arithmetic operations to multiply and add numbers.\n",
    "- Convert minutes to hours using Python.\n"
   ]
  },
  {
   "cell_type": "markdown",
   "id": "87d38bdc-372e-4ccb-929d-fa73e8d6cd14",
   "metadata": {},
   "source": [
    "Some of the popular languages that Data Scientists use are:\n",
    "\n",
    "1. Python\n",
    "2. R\n",
    "3. Julia"
   ]
  },
  {
   "cell_type": "markdown",
   "id": "ffc62a83-1d7b-4e65-b2a0-bc3b274f7524",
   "metadata": {},
   "source": [
    "Some of the commonly used libraries used by Data Scientists include:\n",
    "\n",
    "1. NumPy\n",
    "2. Pandas\n",
    "3. Matplotlib"
   ]
  },
  {
   "cell_type": "markdown",
   "id": "ef8fa42a-c8ba-46ee-a528-16bd297aaba3",
   "metadata": {},
   "source": [
    "| Data Science Tools |\n",
    "|--------------------|\n",
    "| Jupyter Notebook   |\n",
    "| RStudio            |\n",
    "| PyCharm            |\n"
   ]
  },
  {
   "cell_type": "markdown",
   "id": "aa30bb4e-5538-4ae1-b4cf-f11091e8e246",
   "metadata": {},
   "source": [
    "### Below are a few examples of evaluating arithmetic expressions in Python.\n"
   ]
  },
  {
   "cell_type": "code",
   "execution_count": 2,
   "id": "3b4c7a59-affd-470b-9edd-7387f42e1d95",
   "metadata": {},
   "outputs": [
    {
     "data": {
      "text/plain": [
       "17"
      ]
     },
     "execution_count": 2,
     "metadata": {},
     "output_type": "execute_result"
    }
   ],
   "source": [
    "# This is a simple arithmetic expression to multiply then add integers\n",
    "result = (3 * 4) + 5\n",
    "result"
   ]
  },
  {
   "cell_type": "code",
   "execution_count": 3,
   "id": "cea0c562-7c59-4554-aa29-319f90ecb5f5",
   "metadata": {},
   "outputs": [
    {
     "data": {
      "text/plain": [
       "3.3333333333333335"
      ]
     },
     "execution_count": 3,
     "metadata": {},
     "output_type": "execute_result"
    }
   ],
   "source": [
    "# This will convert 200 minutes to hours by dividing by 60\n",
    "minutes = 200\n",
    "hours = minutes / 60\n",
    "hours"
   ]
  },
  {
   "cell_type": "markdown",
   "id": "2baf2653-bfa2-4d46-bd54-6199a2b81211",
   "metadata": {},
   "source": [
    "## Author\n",
    "Mhd Sukri"
   ]
  },
  {
   "cell_type": "code",
   "execution_count": null,
   "id": "c8fae1a5-f4ba-4541-8f1b-db39d3aab2aa",
   "metadata": {},
   "outputs": [],
   "source": []
  }
 ],
 "metadata": {
  "kernelspec": {
   "display_name": "Python 3 (ipykernel)",
   "language": "python",
   "name": "python3"
  },
  "language_info": {
   "codemirror_mode": {
    "name": "ipython",
    "version": 3
   },
   "file_extension": ".py",
   "mimetype": "text/x-python",
   "name": "python",
   "nbconvert_exporter": "python",
   "pygments_lexer": "ipython3",
   "version": "3.10.9"
  }
 },
 "nbformat": 4,
 "nbformat_minor": 5
}
